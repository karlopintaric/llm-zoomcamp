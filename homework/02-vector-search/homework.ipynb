{
 "cells": [
  {
   "cell_type": "code",
   "execution_count": null,
   "id": "ec2fdc9e",
   "metadata": {},
   "outputs": [],
   "source": [
    "from qdrant_client import QdrantClient\n",
    "from fastembed import TextEmbedding"
   ]
  },
  {
   "cell_type": "code",
   "execution_count": 2,
   "id": "ec677bd6",
   "metadata": {},
   "outputs": [],
   "source": [
    "client = QdrantClient(\"http://localhost:6333\")"
   ]
  },
  {
   "cell_type": "code",
   "execution_count": 17,
   "id": "33675426",
   "metadata": {},
   "outputs": [
    {
     "data": {
      "text/plain": [
       "512"
      ]
     },
     "execution_count": 17,
     "metadata": {},
     "output_type": "execute_result"
    }
   ],
   "source": [
    "emb_model = TextEmbedding(\"jinaai/jina-embeddings-v2-small-en\")\n",
    "\n",
    "embeddings_generator = emb_model.query_embed(\"I just discovered the course. Can I join now?\")\n",
    "embeddings = list(embeddings_generator)[0]\n",
    "len(embeddings)"
   ]
  },
  {
   "cell_type": "code",
   "execution_count": 18,
   "id": "52407b97",
   "metadata": {},
   "outputs": [
    {
     "data": {
      "text/plain": [
       "np.float64(-0.11726373885183883)"
      ]
     },
     "execution_count": 18,
     "metadata": {},
     "output_type": "execute_result"
    }
   ],
   "source": [
    "embeddings.min()"
   ]
  },
  {
   "cell_type": "code",
   "execution_count": 12,
   "id": "b36156c0",
   "metadata": {},
   "outputs": [
    {
     "data": {
      "text/plain": [
       "np.float64(1.0)"
      ]
     },
     "execution_count": 12,
     "metadata": {},
     "output_type": "execute_result"
    }
   ],
   "source": [
    "import numpy as np\n",
    "np.linalg.norm(embeddings)"
   ]
  },
  {
   "cell_type": "code",
   "execution_count": 19,
   "id": "472f8ab1",
   "metadata": {},
   "outputs": [
    {
     "data": {
      "text/plain": [
       "np.float64(0.9008528895674548)"
      ]
     },
     "execution_count": 19,
     "metadata": {},
     "output_type": "execute_result"
    }
   ],
   "source": [
    "doc = 'Can I still join the course after the start date?'\n",
    "\n",
    "embeddings_2 = list(emb_model.query_embed(doc))[0]\n",
    "embeddings.dot(embeddings_2)"
   ]
  },
  {
   "cell_type": "code",
   "execution_count": 14,
   "id": "1d754ff6",
   "metadata": {},
   "outputs": [],
   "source": [
    "documents = [{'text': \"Yes, even if you don't register, you're still eligible to submit the homeworks.\\nBe aware, however, that there will be deadlines for turning in the final projects. So don't leave everything for the last minute.\",\n",
    "  'section': 'General course-related questions',\n",
    "  'question': 'Course - Can I still join the course after the start date?',\n",
    "  'course': 'data-engineering-zoomcamp'},\n",
    " {'text': 'Yes, we will keep all the materials after the course finishes, so you can follow the course at your own pace after it finishes.\\nYou can also continue looking at the homeworks and continue preparing for the next cohort. I guess you can also start working on your final capstone project.',\n",
    "  'section': 'General course-related questions',\n",
    "  'question': 'Course - Can I follow the course after it finishes?',\n",
    "  'course': 'data-engineering-zoomcamp'},\n",
    " {'text': \"The purpose of this document is to capture frequently asked technical questions\\nThe exact day and hour of the course will be 15th Jan 2024 at 17h00. The course will start with the first  “Office Hours'' live.1\\nSubscribe to course public Google Calendar (it works from Desktop only).\\nRegister before the course starts using this link.\\nJoin the course Telegram channel with announcements.\\nDon’t forget to register in DataTalks.Club's Slack and join the channel.\",\n",
    "  'section': 'General course-related questions',\n",
    "  'question': 'Course - When will the course start?',\n",
    "  'course': 'data-engineering-zoomcamp'},\n",
    " {'text': 'You can start by installing and setting up all the dependencies and requirements:\\nGoogle cloud account\\nGoogle Cloud SDK\\nPython 3 (installed with Anaconda)\\nTerraform\\nGit\\nLook over the prerequisites and syllabus to see if you are comfortable with these subjects.',\n",
    "  'section': 'General course-related questions',\n",
    "  'question': 'Course - What can I do before the course starts?',\n",
    "  'course': 'data-engineering-zoomcamp'},\n",
    " {'text': 'Star the repo! Share it with friends if you find it useful ❣️\\nCreate a PR if you see you can improve the text or the structure of the repository.',\n",
    "  'section': 'General course-related questions',\n",
    "  'question': 'How can we contribute to the course?',\n",
    "  'course': 'data-engineering-zoomcamp'}]"
   ]
  },
  {
   "cell_type": "code",
   "execution_count": 31,
   "id": "80eb095c",
   "metadata": {},
   "outputs": [],
   "source": [
    "emb_arrays_list = list(emb_model.embed(\n",
    "    [doc[\"text\"] for doc in documents]\n",
    "))\n",
    "\n",
    "emb_matrix = np.stack(emb_arrays_list)"
   ]
  },
  {
   "cell_type": "code",
   "execution_count": 38,
   "id": "b48ea8a3",
   "metadata": {},
   "outputs": [
    {
     "data": {
      "text/plain": [
       "array([0.76296847, 0.81823782, 0.80853974, 0.7133079 , 0.73044992])"
      ]
     },
     "execution_count": 38,
     "metadata": {},
     "output_type": "execute_result"
    }
   ],
   "source": [
    "scores = emb_matrix.dot(embeddings)\n",
    "scores"
   ]
  },
  {
   "cell_type": "code",
   "execution_count": 39,
   "id": "16c9bebe",
   "metadata": {},
   "outputs": [
    {
     "data": {
      "text/plain": [
       "np.int64(1)"
      ]
     },
     "execution_count": 39,
     "metadata": {},
     "output_type": "execute_result"
    }
   ],
   "source": [
    "np.argsort(-scores)[0]"
   ]
  },
  {
   "cell_type": "code",
   "execution_count": 40,
   "id": "e759cdd5",
   "metadata": {},
   "outputs": [],
   "source": [
    "documents_full_text = []\n",
    "for doc in documents:\n",
    "    full_text = doc[\"question\"] + \" \" + doc[\"text\"]\n",
    "    documents_full_text.append(full_text)\n",
    "\n",
    "emb_arrays_list2 = list(emb_model.embed(\n",
    "    documents_full_text\n",
    "))\n",
    "\n",
    "emb_matrix2 = np.stack(emb_arrays_list2)"
   ]
  },
  {
   "cell_type": "code",
   "execution_count": 43,
   "id": "1caa2b5d",
   "metadata": {},
   "outputs": [
    {
     "data": {
      "text/plain": [
       "array([0.85145432, 0.84365942, 0.8408287 , 0.7755158 , 0.80860078])"
      ]
     },
     "execution_count": 43,
     "metadata": {},
     "output_type": "execute_result"
    }
   ],
   "source": [
    "scores2 = emb_matrix2.dot(embeddings)\n",
    "scores2"
   ]
  },
  {
   "cell_type": "code",
   "execution_count": 44,
   "id": "c6b19d79",
   "metadata": {},
   "outputs": [
    {
     "data": {
      "text/plain": [
       "np.int64(0)"
      ]
     },
     "execution_count": 44,
     "metadata": {},
     "output_type": "execute_result"
    }
   ],
   "source": [
    "np.argsort(-scores2)[0]"
   ]
  },
  {
   "cell_type": "code",
   "execution_count": 46,
   "id": "a321e18a",
   "metadata": {},
   "outputs": [
    {
     "data": {
      "text/plain": [
       "384"
      ]
     },
     "execution_count": 46,
     "metadata": {},
     "output_type": "execute_result"
    }
   ],
   "source": [
    "dims = [model[\"dim\"] for model in TextEmbedding.list_supported_models()]\n",
    "min(dims)"
   ]
  },
  {
   "cell_type": "code",
   "execution_count": 47,
   "id": "70fb3d10",
   "metadata": {},
   "outputs": [],
   "source": [
    "import requests \n",
    "\n",
    "docs_url = 'https://github.com/alexeygrigorev/llm-rag-workshop/raw/main/notebooks/documents.json'\n",
    "docs_response = requests.get(docs_url)\n",
    "documents_raw = docs_response.json()\n",
    "\n",
    "\n",
    "documents = []\n",
    "\n",
    "for course in documents_raw:\n",
    "    course_name = course['course']\n",
    "    if course_name != 'machine-learning-zoomcamp':\n",
    "        continue\n",
    "\n",
    "    for doc in course['documents']:\n",
    "        doc['course'] = course_name\n",
    "        documents.append(doc)"
   ]
  },
  {
   "cell_type": "code",
   "execution_count": 50,
   "id": "e029eed5",
   "metadata": {},
   "outputs": [],
   "source": [
    "bge_emb_model = TextEmbedding(\"BAAI/bge-small-en\")\n",
    "\n",
    "documents_full_text = []\n",
    "for doc in documents:\n",
    "    full_text = doc[\"question\"] + \" \" + doc[\"text\"]\n",
    "    documents_full_text.append(full_text)\n",
    "\n",
    "emb_arrays_list3 = list(bge_emb_model.embed(\n",
    "    documents_full_text\n",
    "))\n",
    "\n",
    "emb_matrix3 = np.stack(emb_arrays_list3)"
   ]
  },
  {
   "cell_type": "code",
   "execution_count": 55,
   "id": "b5818d65",
   "metadata": {},
   "outputs": [
    {
     "data": {
      "text/plain": [
       "np.float32(0.8703172)"
      ]
     },
     "execution_count": 55,
     "metadata": {},
     "output_type": "execute_result"
    }
   ],
   "source": [
    "bge_embeddings = list(bge_emb_model.query_embed(\"I just discovered the course. Can I join now?\"))[0]\n",
    "\n",
    "scores3 = emb_matrix3.dot(bge_embeddings)\n",
    "max(scores3)"
   ]
  }
 ],
 "metadata": {
  "kernelspec": {
   "display_name": ".venv",
   "language": "python",
   "name": "python3"
  },
  "language_info": {
   "codemirror_mode": {
    "name": "ipython",
    "version": 3
   },
   "file_extension": ".py",
   "mimetype": "text/x-python",
   "name": "python",
   "nbconvert_exporter": "python",
   "pygments_lexer": "ipython3",
   "version": "3.11.2"
  }
 },
 "nbformat": 4,
 "nbformat_minor": 5
}
